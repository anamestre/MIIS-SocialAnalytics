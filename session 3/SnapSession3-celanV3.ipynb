{
 "cells": [
  {
   "cell_type": "markdown",
   "metadata": {},
   "source": [
    " # SNAP Tutorial"
   ]
  },
  {
   "cell_type": "markdown",
   "metadata": {},
   "source": [
    "Notebook tested with python 2.7. Small change might be neccessary for python 3.<BR>\n",
    "Uses the following additional packes and software:<BR>\n",
    "- gnuplot (http://www.gnuplot.info/)\n",
    "- graphviz (https://www.graphviz.org/)\n",
    "- powerlaw (https://github.com/jeffalstott/powerlaw)"
   ]
  },
  {
   "cell_type": "code",
   "execution_count": 6,
   "metadata": {},
   "outputs": [
    {
     "name": "stdout",
     "output_type": "stream",
     "text": [
      "SUCCESS, your version of Snap.py is 5.0.0\n"
     ]
    }
   ],
   "source": [
    "# Test Instalation\n",
    "status = False\n",
    "try:\n",
    "    import snap\n",
    "    version = snap.Version\n",
    "    i = snap.TInt(5)\n",
    "    if i == 5:\n",
    "        status = True\n",
    "except:\n",
    "    pass\n",
    "\n",
    "if status:\n",
    "    print (\"SUCCESS, your version of Snap.py is %s\" % (version))\n",
    "else:\n",
    "    print (\"*** ERROR, no working Snap.py was found on your computer\")"
   ]
  },
  {
   "cell_type": "code",
   "execution_count": 7,
   "metadata": {},
   "outputs": [],
   "source": [
    "import snap"
   ]
  },
  {
   "cell_type": "markdown",
   "metadata": {},
   "source": [
    "### Basic Types"
   ]
  },
  {
   "cell_type": "code",
   "execution_count": 8,
   "metadata": {},
   "outputs": [
    {
     "name": "stdout",
     "output_type": "stream",
     "text": [
      "10\n"
     ]
    }
   ],
   "source": [
    "i= snap.TInt(10)\n",
    "print (i.Val)"
   ]
  },
  {
   "cell_type": "code",
   "execution_count": 9,
   "metadata": {},
   "outputs": [
    {
     "name": "stdout",
     "output_type": "stream",
     "text": [
      "5\n"
     ]
    }
   ],
   "source": [
    "# Create an empty Vector\n",
    "v = snap.TIntV()\n",
    "\n",
    "# Add elements\n",
    "v.Add(1) \n",
    "v.Add(2) \n",
    "v.Add(3) \n",
    "v.Add(4) \n",
    "v.Add(5)\n",
    "\n",
    "# Print vector size\n",
    "print( v.Len())"
   ]
  },
  {
   "cell_type": "markdown",
   "metadata": {},
   "source": [
    "### Vector  Example"
   ]
  },
  {
   "cell_type": "code",
   "execution_count": 10,
   "metadata": {},
   "outputs": [
    {
     "name": "stdout",
     "output_type": "stream",
     "text": [
      "4\n",
      "6\n"
     ]
    }
   ],
   "source": [
    "# Get and set element value\n",
    "print (v[3])\n",
    "v[3] = 2*v[2]\n",
    "print (v[3])"
   ]
  },
  {
   "cell_type": "code",
   "execution_count": 11,
   "metadata": {},
   "outputs": [
    {
     "name": "stdout",
     "output_type": "stream",
     "text": [
      "1\n",
      "2\n",
      "3\n",
      "6\n",
      "5\n"
     ]
    }
   ],
   "source": [
    "#Print vector elements\n",
    "for item in v: \n",
    "    print (item)\n"
   ]
  },
  {
   "cell_type": "code",
   "execution_count": 12,
   "metadata": {},
   "outputs": [
    {
     "name": "stdout",
     "output_type": "stream",
     "text": [
      "0 1\n",
      "1 2\n",
      "2 3\n",
      "3 6\n",
      "4 5\n"
     ]
    }
   ],
   "source": [
    "for i in range(0, v.Len()):\n",
    "    print (i, v[i])"
   ]
  },
  {
   "cell_type": "markdown",
   "metadata": {},
   "source": [
    "### Hash Table Example"
   ]
  },
  {
   "cell_type": "code",
   "execution_count": 13,
   "metadata": {},
   "outputs": [],
   "source": [
    "# Create an empty table\n",
    "h = snap.TIntStrH()\n",
    "\n",
    "# Add elements\n",
    "h[5] = \"apple\" \n",
    "h[3] = \"tomato\"\n",
    "h[9] = \"orange\" \n",
    "h[6] = \"banana\" \n",
    "h[1] = \"apricot\""
   ]
  },
  {
   "cell_type": "code",
   "execution_count": 14,
   "metadata": {},
   "outputs": [
    {
     "name": "stdout",
     "output_type": "stream",
     "text": [
      "5\n"
     ]
    }
   ],
   "source": [
    "# Print table size \n",
    "print (h.Len())"
   ]
  },
  {
   "cell_type": "code",
   "execution_count": 15,
   "metadata": {},
   "outputs": [
    {
     "name": "stdout",
     "output_type": "stream",
     "text": [
      "h[3] = tomato\n"
     ]
    }
   ],
   "source": [
    "# Get element value\n",
    "print (\"h[3] =\", h[3])"
   ]
  },
  {
   "cell_type": "code",
   "execution_count": 16,
   "metadata": {},
   "outputs": [
    {
     "name": "stdout",
     "output_type": "stream",
     "text": [
      "h[3] = peach\n"
     ]
    }
   ],
   "source": [
    "# Set element value \n",
    "h[3] = \"peach\"\n",
    "print (\"h[3] =\", h[3])"
   ]
  },
  {
   "cell_type": "code",
   "execution_count": 32,
   "metadata": {},
   "outputs": [
    {
     "name": "stdout",
     "output_type": "stream",
     "text": [
      "5 apple\n",
      "3 peach\n",
      "9 orange\n",
      "6 banana\n",
      "1 apricot\n"
     ]
    }
   ],
   "source": [
    "# Print table elements\n",
    "for key in h:\n",
    "    print (key, h[key])"
   ]
  },
  {
   "cell_type": "markdown",
   "metadata": {},
   "source": [
    "### Pair Example"
   ]
  },
  {
   "cell_type": "code",
   "execution_count": 33,
   "metadata": {},
   "outputs": [],
   "source": [
    "# Create a pair\n",
    "p = snap.TIntStrPr(1,\"one\")"
   ]
  },
  {
   "cell_type": "code",
   "execution_count": 34,
   "metadata": {},
   "outputs": [
    {
     "name": "stdout",
     "output_type": "stream",
     "text": [
      "1\n"
     ]
    }
   ],
   "source": [
    "# Print pair values\n",
    "print( p.GetVal1() )"
   ]
  },
  {
   "cell_type": "code",
   "execution_count": 35,
   "metadata": {},
   "outputs": [
    {
     "name": "stdout",
     "output_type": "stream",
     "text": [
      "one\n"
     ]
    }
   ],
   "source": [
    "print (p.GetVal2())"
   ]
  },
  {
   "cell_type": "markdown",
   "metadata": {},
   "source": [
    "## Basic Graph and Network Classes"
   ]
  },
  {
   "cell_type": "markdown",
   "metadata": {},
   "source": [
    "### Graph Creation"
   ]
  },
  {
   "cell_type": "code",
   "execution_count": 36,
   "metadata": {},
   "outputs": [],
   "source": [
    "# Create a Directed Graph\n",
    "G1 = snap.TNGraph.New()\n",
    "\n",
    "# Add Nodes before \n",
    "G1.AddNode(1) \n",
    "G1.AddNode(5) \n",
    "G1.AddNode(12)\n",
    "\n",
    "# adding edges\n",
    "G1.AddEdge(1,5)\n",
    "G1.AddEdge(5,1)\n",
    "G1.AddEdge(5,12)\n",
    "\n",
    "# Set node labels\n",
    "NIdName = snap.TIntStrH() \n",
    "NIdName[1] = \"1\" \n",
    "NIdName[5] = \"5\" \n",
    "NIdName[12] = \"12\""
   ]
  },
  {
   "cell_type": "code",
   "execution_count": 37,
   "metadata": {},
   "outputs": [],
   "source": [
    "# Undirected graph, \n",
    "G2 = snap.TUNGraph.New()\n",
    "\n",
    "# Directed network\n",
    "N1 = snap.TNEANet.New()"
   ]
  },
  {
   "cell_type": "markdown",
   "metadata": {},
   "source": [
    "## Drawing Graphs"
   ]
  },
  {
   "cell_type": "markdown",
   "metadata": {},
   "source": [
    "Needs graphviz to be installed. See here https://www.graphviz.org/ <BR>\n",
    "Use only for very **small** graphs"
   ]
  },
  {
   "cell_type": "code",
   "execution_count": 40,
   "metadata": {},
   "outputs": [],
   "source": [
    "snap.DrawGViz(G1, snap.gvlDot, \"G1.png\", \"G1\", NIdName)"
   ]
  },
  {
   "cell_type": "code",
   "execution_count": 41,
   "metadata": {},
   "outputs": [
    {
     "data": {
      "image/png": "[encoded data removed]",
      "text/plain": [
       "<IPython.core.display.Image object>"
      ]
     },
     "execution_count": 41,
     "metadata": {},
     "output_type": "execute_result"
    }
   ],
   "source": [
    "from IPython.display import Image\n",
    "Image(filename='G1.png')"
   ]
  },
  {
   "cell_type": "markdown",
   "metadata": {},
   "source": [
    "### Graph Traversal"
   ]
  },
  {
   "cell_type": "code",
   "execution_count": 42,
   "metadata": {},
   "outputs": [
    {
     "name": "stdout",
     "output_type": "stream",
     "text": [
      "node id 1, out-degree 1, in-degree 1\n",
      "node id 5, out-degree 2, in-degree 1\n",
      "node id 12, out-degree 0, in-degree 1\n"
     ]
    }
   ],
   "source": [
    "# Node traversal\n",
    "for NI in G1.Nodes():\n",
    "    print (\"node id %d, out-degree %d, in-degree %d\" \\\n",
    "    % (NI.GetId(), NI.GetOutDeg(), NI.GetInDeg()))"
   ]
  },
  {
   "cell_type": "code",
   "execution_count": 43,
   "metadata": {},
   "outputs": [
    {
     "name": "stdout",
     "output_type": "stream",
     "text": [
      "(1, 5)\n",
      "(5, 1)\n",
      "(5, 12)\n"
     ]
    }
   ],
   "source": [
    "# Edge traversal\n",
    "for EI in G1.Edges():\n",
    "    print (\"(%d, %d)\" % (EI.GetSrcNId(), EI.GetDstNId()))"
   ]
  },
  {
   "cell_type": "code",
   "execution_count": 44,
   "metadata": {},
   "outputs": [
    {
     "name": "stdout",
     "output_type": "stream",
     "text": [
      "(1 5)\n",
      "(5 1)\n",
      "(5 12)\n"
     ]
    }
   ],
   "source": [
    "# Edge traversal by nodes\n",
    "for NI in G1.Nodes():\n",
    "    for DstNId in NI.GetOutEdges():\n",
    "        print( \"(%d %d)\" % (NI.GetId(), DstNId))"
   ]
  },
  {
   "cell_type": "markdown",
   "metadata": {},
   "source": [
    "### Graph Saving and Loading"
   ]
  },
  {
   "cell_type": "code",
   "execution_count": 45,
   "metadata": {},
   "outputs": [],
   "source": [
    "# Save text\n",
    "snap.SaveEdgeList(G1, \"test.txt\", \"List of edges\")\n",
    "\n"
   ]
  },
  {
   "cell_type": "code",
   "execution_count": 46,
   "metadata": {},
   "outputs": [],
   "source": [
    "# Load text\n",
    "G2 = snap.LoadEdgeList(snap.PNGraph,\"test.txt\",0,1)"
   ]
  },
  {
   "cell_type": "markdown",
   "metadata": {},
   "source": [
    "__LoadEdgeList__(GraphType, InFNm, SrcColId, DstColId) <BR>\n",
    "__Parameters__:\n",
    "-  GraphType: graph class (input)<BR>\n",
    "   Class of output graph – one of PNGraph, PNEANet, or PUNGraph.\n",
    "-  InFNm: string (input)<BR>\n",
    "   Filename with the description of the graph edges.\n",
    "-  SrcColId: int (input)<BR>\n",
    "   The column number in the file, which contains the node id representing the source vertex.\n",
    "-  DstColId: int (input)<BR>\n",
    "   The column number in the file, which contains the node id representing the destination vertex."
   ]
  },
  {
   "cell_type": "code",
   "execution_count": 47,
   "metadata": {},
   "outputs": [],
   "source": [
    "# Save Binary\n",
    "FOut = snap.TFOut(\"test.graph\") \n",
    "G2.Save(FOut)\n",
    "FOut.Flush()"
   ]
  },
  {
   "cell_type": "code",
   "execution_count": 48,
   "metadata": {},
   "outputs": [],
   "source": [
    "# Load Binary\n",
    "FIn = snap.TFIn(\"test.graph\")\n",
    "G4 = snap.TNGraph.Load(FIn)"
   ]
  },
  {
   "cell_type": "code",
   "execution_count": 55,
   "metadata": {},
   "outputs": [],
   "source": [
    "# wiki-Vote.txt\n",
    "G5 = snap.LoadEdgeList(snap.PNGraph,\"data/Wiki-Vote.txt\",0,1)"
   ]
  },
  {
   "cell_type": "markdown",
   "metadata": {},
   "source": [
    "### Plotting with Snap.py"
   ]
  },
  {
   "cell_type": "markdown",
   "metadata": {},
   "source": [
    "Needs gnuplot to be installed. See here http://www.gnuplot.info/"
   ]
  },
  {
   "cell_type": "code",
   "execution_count": 60,
   "metadata": {},
   "outputs": [],
   "source": [
    "# Graph of Java QA on StackOverflow:\n",
    "G = snap.LoadEdgeList(snap.PNGraph, \"data/qa.txt\", 1, 5)\n",
    "\n",
    "# Plot in-degree distribution \n",
    "snap.PlotInDegDistr(G, \"Stack-Java\", \"Stack-Java In Degree\")\n",
    "# Plots are generated in files"
   ]
  },
  {
   "cell_type": "code",
   "execution_count": 61,
   "metadata": {},
   "outputs": [
    {
     "data": {
      "image/png": "[encoded data removed]",
      "text/plain": [
       "<IPython.core.display.Image object>"
      ]
     },
     "execution_count": 61,
     "metadata": {},
     "output_type": "execute_result"
    }
   ],
   "source": [
    "Image(filename='inDeg.Stack-Java.png')"
   ]
  },
  {
   "cell_type": "code",
   "execution_count": 62,
   "metadata": {},
   "outputs": [],
   "source": [
    "snap.PlotInDegDistr(G5, \"wiki_vote\", \"Wiki Vote In Degree\")"
   ]
  },
  {
   "cell_type": "code",
   "execution_count": 63,
   "metadata": {},
   "outputs": [
    {
     "data": {
      "image/png": "[encoded data removed]",
      "text/plain": [
       "<IPython.core.display.Image object>"
      ]
     },
     "execution_count": 63,
     "metadata": {},
     "output_type": "execute_result"
    }
   ],
   "source": [
    "Image(filename='inDeg.wiki_vote.png')"
   ]
  },
  {
   "cell_type": "code",
   "execution_count": 64,
   "metadata": {},
   "outputs": [
    {
     "name": "stdout",
     "output_type": "stream",
     "text": [
      "node ID 78: in-degree 0\n",
      "node ID 86: in-degree 5\n",
      "node ID 58: in-degree 1\n",
      "node ID 35: in-degree 3\n",
      "node ID 122: in-degree 8\n",
      "node ID 25: in-degree 0\n",
      "node ID 154: in-degree 1\n",
      "node ID 340: in-degree 1\n",
      "node ID 40: in-degree 1\n",
      "node ID 362: in-degree 0\n",
      "node ID 432: in-degree 1\n",
      "node ID 462: in-degree 8\n",
      "node ID 2089740: in-degree 1\n",
      "node ID 235: in-degree 21\n",
      "node ID 13940: in-degree 8\n",
      "node ID 488: in-degree 0\n",
      "node ID 1741: in-degree 4\n",
      "node ID 92: in-degree 6\n",
      "node ID 287: in-degree 35\n",
      "node ID 670: in-degree 0\n"
     ]
    }
   ],
   "source": [
    "InDegV = snap.TIntPrV()\n",
    "snap.GetNodeInDegV(G, InDegV)\n",
    "\n",
    "numItemstoList=20;i=0;\n",
    "for item in InDegV:\n",
    "    print (\"node ID %d: in-degree %d\" % (item.GetVal1(), item.GetVal2()))\n",
    "    i=i+1\n",
    "    if i==numItemstoList:\n",
    "        break # comment to output all nodes"
   ]
  },
  {
   "cell_type": "markdown",
   "metadata": {},
   "source": [
    "## Powerlaw fit of degree Distribution"
   ]
  },
  {
   "cell_type": "markdown",
   "metadata": {},
   "source": [
    "Source code and Windows installers of powerlaw package are available from the Python Package Index, PyPI, at https://pypi.python.org/pypi/powerlaw. It can be readily installed with pip:\n",
    "\n",
    "`pip install powerlaw`\n",
    "\n",
    "Source code is also available on GitHub at https://github.com/jeffalstott/powerlaw and Google Code at https://code.google.com/p/powerlaw/."
   ]
  },
  {
   "cell_type": "code",
   "execution_count": 65,
   "metadata": {},
   "outputs": [],
   "source": [
    "import powerlaw as pl\n",
    "import numpy as np"
   ]
  },
  {
   "cell_type": "code",
   "execution_count": 66,
   "metadata": {},
   "outputs": [],
   "source": [
    "a = np.arange(1, snap.CntNonZNodes(G) - snap.CntInDegNodes(G,0) +2)\n",
    "i=0\n",
    "for item in InDegV:\n",
    "    if item.GetVal2() > 0 :\n",
    "        i=i+1\n",
    "        a[i]=item.GetVal2()"
   ]
  },
  {
   "cell_type": "code",
   "execution_count": 67,
   "metadata": {},
   "outputs": [],
   "source": [
    "bars, bins=np.histogram(a,bins=np.arange(1,max(a)))"
   ]
  },
  {
   "cell_type": "code",
   "execution_count": 68,
   "metadata": {},
   "outputs": [
    {
     "data": {
      "text/plain": [
       "array([48665, 10872,  5044, ...,     0,     0,     0])"
      ]
     },
     "execution_count": 68,
     "metadata": {},
     "output_type": "execute_result"
    }
   ],
   "source": [
    "bars"
   ]
  },
  {
   "cell_type": "code",
   "execution_count": 69,
   "metadata": {},
   "outputs": [
    {
     "data": {
      "text/plain": [
       "array([   1,    2,    3, ..., 4504, 4505, 4506])"
      ]
     },
     "execution_count": 69,
     "metadata": {},
     "output_type": "execute_result"
    }
   ],
   "source": [
    "bins"
   ]
  },
  {
   "cell_type": "code",
   "execution_count": 70,
   "metadata": {},
   "outputs": [],
   "source": [
    "%matplotlib inline\n",
    "import matplotlib.pyplot as plt; \n",
    "plt.rcParams['figure.figsize'] = [10, 7]"
   ]
  },
  {
   "cell_type": "code",
   "execution_count": 71,
   "metadata": {},
   "outputs": [
    {
     "data": {
      "text/plain": [
       "Text(0.5, 0, 'in-degree')"
      ]
     },
     "execution_count": 71,
     "metadata": {},
     "output_type": "execute_result"
    },
    {
     "data": {
      "image/png": "[encoded data removed]",
      "text/plain": [
       "<Figure size 432x288 with 1 Axes>"
      ]
     },
     "metadata": {
      "needs_background": "light"
     },
     "output_type": "display_data"
    }
   ],
   "source": [
    "plt.loglog(bins[0:-1],bars)\n",
    "plt.ylabel('# users per degree')\n",
    "plt.xlabel('in-degree')"
   ]
  },
  {
   "cell_type": "code",
   "execution_count": 72,
   "metadata": {},
   "outputs": [
    {
     "data": {
      "text/plain": [
       "Text(0.5, 0, 'in-degree')"
      ]
     },
     "execution_count": 72,
     "metadata": {},
     "output_type": "execute_result"
    },
    {
     "data": {
      "image/png": "[encoded data removed]",
      "text/plain": [
       "<Figure size 432x288 with 1 Axes>"
      ]
     },
     "metadata": {
      "needs_background": "light"
     },
     "output_type": "display_data"
    }
   ],
   "source": [
    "plt.loglog(bins[0:-1],sum(bars)-np.cumsum(bars))\n",
    "plt.ylabel('# users with degree larger or equla than x')\n",
    "plt.xlabel('in-degree')"
   ]
  },
  {
   "cell_type": "code",
   "execution_count": 73,
   "metadata": {},
   "outputs": [
    {
     "name": "stderr",
     "output_type": "stream",
     "text": [
      "Calculating best minimal value for power law fit\n",
      "/home/gabi/Installations/anaconda3/lib/python3.7/site-packages/powerlaw.py:700: RuntimeWarning: invalid value encountered in true_divide\n",
      "  (Theoretical_CDF * (1 - Theoretical_CDF))\n"
     ]
    }
   ],
   "source": [
    "fit=pl.Fit(a)"
   ]
  },
  {
   "cell_type": "code",
   "execution_count": 74,
   "metadata": {},
   "outputs": [
    {
     "data": {
      "image/png": "[encoded data removed]",
      "text/plain": [
       "<Figure size 432x288 with 1 Axes>"
      ]
     },
     "metadata": {
      "needs_background": "light"
     },
     "output_type": "display_data"
    }
   ],
   "source": [
    "pl.plot_pdf(a, color='r')\n",
    "fig2=fit.plot_pdf(color='b',linewidth=2)"
   ]
  },
  {
   "cell_type": "code",
   "execution_count": 75,
   "metadata": {},
   "outputs": [
    {
     "data": {
      "text/plain": [
       "2.2571308697206742"
      ]
     },
     "execution_count": 75,
     "metadata": {},
     "output_type": "execute_result"
    }
   ],
   "source": [
    "# power-law exponent\n",
    "fit.alpha"
   ]
  },
  {
   "cell_type": "code",
   "execution_count": 76,
   "metadata": {},
   "outputs": [
    {
     "data": {
      "text/plain": [
       "27.0"
      ]
     },
     "execution_count": 76,
     "metadata": {},
     "output_type": "execute_result"
    }
   ],
   "source": [
    "# min value of x where power-law behaviour starts\n",
    "fit.xmin"
   ]
  },
  {
   "cell_type": "code",
   "execution_count": 77,
   "metadata": {},
   "outputs": [
    {
     "data": {
      "text/plain": [
       "0.018334616571345275"
      ]
     },
     "execution_count": 77,
     "metadata": {},
     "output_type": "execute_result"
    }
   ],
   "source": [
    "# result of Kolmogorov–Smirnov test\n",
    "fit.D"
   ]
  },
  {
   "cell_type": "code",
   "execution_count": 78,
   "metadata": {},
   "outputs": [
    {
     "data": {
      "text/plain": [
       "Text(0.5, 0, 'in-degree')"
      ]
     },
     "execution_count": 78,
     "metadata": {},
     "output_type": "execute_result"
    },
    {
     "data": {
      "image/png": "[encoded data removed]",
      "text/plain": [
       "<Figure size 432x288 with 1 Axes>"
      ]
     },
     "metadata": {
      "needs_background": "light"
     },
     "output_type": "display_data"
    }
   ],
   "source": [
    "#comparison of data and Pl-fits of pdf (blue) and ccdf (red)\"\n",
    "figCCDF = fit.plot_pdf(color='b', linewidth=2)\n",
    "fit.power_law.plot_pdf(color='b', linestyle='--', ax=figCCDF)\n",
    "fit.plot_ccdf(color='r', linewidth=2, ax=figCCDF)\n",
    "fit.power_law.plot_ccdf(color='r', linestyle='--', ax=figCCDF)\n",
    "####\n",
    "figCCDF.set_ylabel(u\"p(X),  p(X≥x)\")\n",
    "figCCDF.set_xlabel(r\"in-degree\")"
   ]
  },
  {
   "cell_type": "markdown",
   "metadata": {},
   "source": [
    "# Network Analytics with SNAP"
   ]
  },
  {
   "cell_type": "code",
   "execution_count": 79,
   "metadata": {},
   "outputs": [],
   "source": [
    "# Preferential Attachment\n",
    "GPA = snap.GenPrefAttach(30, 3, snap.TRnd())"
   ]
  },
  {
   "cell_type": "code",
   "execution_count": 80,
   "metadata": {},
   "outputs": [],
   "source": [
    "# Get an induced subgraph on a set of nodes NIdV:\n",
    "NIdV = snap.TIntV()\n",
    "for i in range(1,9): \n",
    "    NIdV.Add(i)\n",
    "SubGPA = snap.GetSubGraph(GPA, NIdV)"
   ]
  },
  {
   "cell_type": "markdown",
   "metadata": {},
   "source": [
    "### Print Graph Information"
   ]
  },
  {
   "cell_type": "code",
   "execution_count": 81,
   "metadata": {},
   "outputs": [],
   "source": [
    "snap.PrintInfo(G, \"QA Stats\", \"qa-info_basic.txt\",  True) #if set to True only basic info is shown"
   ]
  },
  {
   "cell_type": "code",
   "execution_count": 82,
   "metadata": {},
   "outputs": [
    {
     "name": "stdout",
     "output_type": "stream",
     "text": [
      "QA Stats: Directed\n",
      "  Nodes:                    188406\n",
      "  Edges:                    415174\n",
      "  Zero Deg Nodes:           0\n",
      "  Zero InDeg Nodes:         108618\n",
      "  Zero OutDeg Nodes:        38319\n",
      "  NonZero In-Out Deg Nodes: 41469\n",
      "\n"
     ]
    }
   ],
   "source": [
    "f = open('qa-info_basic.txt', 'r')\n",
    "file_contents = f.read()\n",
    "print (file_contents)\n",
    "f.close()"
   ]
  },
  {
   "cell_type": "code",
   "execution_count": 83,
   "metadata": {},
   "outputs": [],
   "source": [
    "snap.PrintInfo(G, \"QA Stats\", \"qa-info.txt\",  False)"
   ]
  },
  {
   "cell_type": "code",
   "execution_count": 84,
   "metadata": {},
   "outputs": [
    {
     "name": "stdout",
     "output_type": "stream",
     "text": [
      "QA Stats: Directed\n",
      "  Nodes:                    188406\n",
      "  Edges:                    415174\n",
      "  Zero Deg Nodes:           0\n",
      "  Zero InDeg Nodes:         108618\n",
      "  Zero OutDeg Nodes:        38319\n",
      "  NonZero In-Out Deg Nodes: 41469\n",
      "  Unique directed edges:    415174\n",
      "  Unique undirected edges:  415027\n",
      "  Self Edges:               26924\n",
      "  BiDir Edges:              27218\n",
      "  Closed triangles:         46992\n",
      "  Open triangles:           69426319\n",
      "  Frac. of closed triads:   0.000676\n",
      "  Connected component size: 0.886745\n",
      "  Strong conn. comp. size:  0.025758\n",
      "  Approx. full diameter:    12\n",
      "  90% effective diameter:  5.635083\n",
      "\n"
     ]
    }
   ],
   "source": [
    "f = open('qa-info.txt', 'r')\n",
    "file_contents = f.read()\n",
    "print (file_contents)\n",
    "f.close()"
   ]
  },
  {
   "cell_type": "code",
   "execution_count": 85,
   "metadata": {},
   "outputs": [
    {
     "name": "stdout",
     "output_type": "stream",
     "text": [
      "Wiki Votes Stats: Directed\n",
      "  Nodes:                    7115\n",
      "  Edges:                    103689\n",
      "  Zero Deg Nodes:           0\n",
      "  Zero InDeg Nodes:         4734\n",
      "  Zero OutDeg Nodes:        1005\n",
      "  NonZero In-Out Deg Nodes: 1376\n",
      "  Unique directed edges:    103689\n",
      "  Unique undirected edges:  100762\n",
      "  Self Edges:               0\n",
      "  BiDir Edges:              5854\n",
      "  Closed triangles:         608389\n",
      "  Open triangles:           12720413\n",
      "  Frac. of closed triads:   0.045645\n",
      "  Connected component size: 0.993113\n",
      "  Strong conn. comp. size:  0.182713\n",
      "  Approx. full diameter:    7\n",
      "  90% effective diameter:  3.779240\n",
      "\n"
     ]
    }
   ],
   "source": [
    "snap.PrintInfo(G5, \"Wiki Votes Stats\", \"wiki_votes-info.txt\",  False)\n",
    "f = open('wiki_votes-info.txt', 'r')\n",
    "file_contents = f.read()\n",
    "print (file_contents)\n",
    "f.close()"
   ]
  },
  {
   "cell_type": "markdown",
   "metadata": {},
   "source": [
    "### Connected Components"
   ]
  },
  {
   "cell_type": "code",
   "execution_count": 87,
   "metadata": {},
   "outputs": [
    {
     "name": "stdout",
     "output_type": "stream",
     "text": [
      "max wcc nodes 7066, edges 103663\n"
     ]
    }
   ],
   "source": [
    "# Get largest WCC\n",
    "MxWcc = snap.GetMxWcc(G5)\n",
    "print( \"max wcc nodes %d, edges %d\" % \\\n",
    "    (MxWcc.GetNodes(), MxWcc.GetEdges()))"
   ]
  },
  {
   "cell_type": "code",
   "execution_count": 89,
   "metadata": {},
   "outputs": [
    {
     "name": "stdout",
     "output_type": "stream",
     "text": [
      "# of connected component sizes 3\n",
      "size 2, number of components 20\n",
      "size 3, number of components 3\n",
      "size 7066, number of components 1\n"
     ]
    }
   ],
   "source": [
    "# Get WCC sizes\n",
    "WccV = snap.TIntPrV()\n",
    "snap.GetWccSzCnt(G5, WccV)\n",
    "\n",
    "print (\"# of connected component sizes\", WccV.Len() )\n",
    "for comp in WccV:\n",
    "    print (\"size %d, number of components %d\" % \\\n",
    "        (comp.GetVal1(), comp.GetVal2()))"
   ]
  },
  {
   "cell_type": "code",
   "execution_count": 90,
   "metadata": {},
   "outputs": [
    {
     "name": "stdout",
     "output_type": "stream",
     "text": [
      "Wiki Votes Stats: Directed\n",
      "  Nodes:                    7066\n",
      "  Edges:                    103663\n",
      "  Zero Deg Nodes:           0\n",
      "  Zero InDeg Nodes:         4708\n",
      "  Zero OutDeg Nodes:        982\n",
      "  NonZero In-Out Deg Nodes: 1376\n",
      "  Unique directed edges:    103663\n",
      "  Unique undirected edges:  100736\n",
      "  Self Edges:               0\n",
      "  BiDir Edges:              5854\n",
      "  Closed triangles:         608389\n",
      "  Open triangles:           12720410\n",
      "  Frac. of closed triads:   0.045645\n",
      "  Connected component size: 1.000000\n",
      "  Strong conn. comp. size:  0.183980\n",
      "  Approx. full diameter:    6\n",
      "  90% effective diameter:  3.782779\n",
      "\n"
     ]
    }
   ],
   "source": [
    "snap.PrintInfo(MxWcc, \"Wiki Votes Stats\", \"wiki_votes-infoMxWcc.txt\",  False)\n",
    "f = open('wiki_votes-infoMxWcc.txt', 'r')\n",
    "file_contents = f.read()\n",
    "print (file_contents)\n",
    "f.close()"
   ]
  },
  {
   "cell_type": "code",
   "execution_count": 95,
   "metadata": {},
   "outputs": [
    {
     "name": "stdout",
     "output_type": "stream",
     "text": [
      "max scc nodes 1300, edges 39456\n"
     ]
    }
   ],
   "source": [
    "MxScc = snap.GetMxScc(G5) #Returns a graph representing the largest strongly connected component in Graph.\n",
    "print (\"max scc nodes %d, edges %d\" % \\\n",
    "    (MxScc.GetNodes(), MxScc.GetEdges()))"
   ]
  },
  {
   "cell_type": "code",
   "execution_count": 93,
   "metadata": {},
   "outputs": [
    {
     "name": "stdout",
     "output_type": "stream",
     "text": [
      "# of connected component sizes 2\n",
      "size 1, number of components 5815\n",
      "size 1300, number of components 1\n"
     ]
    }
   ],
   "source": [
    "# Get SCC sizes\n",
    "SccV = snap.TIntPrV()\n",
    "snap.GetSccSzCnt(G5, WccV)\n",
    "\n",
    "print (\"# of connected component sizes\", WccV.Len() )\n",
    "for comp in WccV:\n",
    "    print (\"size %d, number of components %d\" % \\\n",
    "        (comp.GetVal1(), comp.GetVal2()))"
   ]
  },
  {
   "cell_type": "code",
   "execution_count": 94,
   "metadata": {},
   "outputs": [
    {
     "name": "stdout",
     "output_type": "stream",
     "text": [
      "Wiki Votes Stats: Directed\n",
      "  Nodes:                    1300\n",
      "  Edges:                    39456\n",
      "  Zero Deg Nodes:           0\n",
      "  Zero InDeg Nodes:         0\n",
      "  Zero OutDeg Nodes:        0\n",
      "  NonZero In-Out Deg Nodes: 1300\n",
      "  Unique directed edges:    39456\n",
      "  Unique undirected edges:  36529\n",
      "  Self Edges:               0\n",
      "  BiDir Edges:              5854\n",
      "  Closed triangles:         254312\n",
      "  Open triangles:           3145182\n",
      "  Frac. of closed triads:   0.074809\n",
      "  Connected component size: 1.000000\n",
      "  Strong conn. comp. size:  1.000000\n",
      "  Approx. full diameter:    4\n",
      "  90% effective diameter:  2.614085\n",
      "\n"
     ]
    }
   ],
   "source": [
    "snap.PrintInfo(MxScc, \"Wiki Votes Stats\", \"wiki_votes-infoMxScc.txt\",  False)\n",
    "f = open('wiki_votes-infoMxScc.txt', 'r')\n",
    "file_contents = f.read()\n",
    "print (file_contents)\n",
    "f.close()"
   ]
  },
  {
   "cell_type": "markdown",
   "metadata": {},
   "source": [
    "### Analyze node connectivity"
   ]
  },
  {
   "cell_type": "code",
   "execution_count": 96,
   "metadata": {},
   "outputs": [
    {
     "name": "stdout",
     "output_type": "stream",
     "text": [
      "max degree node 3\n",
      "11 nodes with degree 3\n",
      "9 nodes with degree 4\n",
      "1 nodes with degree 6\n",
      "1 nodes with degree 7\n",
      "2 nodes with degree 8\n",
      "1 nodes with degree 9\n",
      "1 nodes with degree 10\n",
      "2 nodes with degree 11\n",
      "1 nodes with degree 13\n",
      "1 nodes with degree 16\n"
     ]
    }
   ],
   "source": [
    "# Get node with max degree\n",
    "NId = snap.GetMxDegNId(GPA) \n",
    "print (\"max degree node\", NId)\n",
    "\n",
    "# Get degree distribution\n",
    "DegToCntV = snap.TIntPrV()\n",
    "snap.GetDegCnt(GPA, DegToCntV)\n",
    "for item in DegToCntV:\n",
    "    print (\"%d nodes with degree %d\" % (\n",
    "        item.GetVal2(), item.GetVal1()))"
   ]
  },
  {
   "cell_type": "markdown",
   "metadata": {},
   "source": [
    "### Node Centrality\n",
    "\n"
   ]
  },
  {
   "cell_type": "code",
   "execution_count": 97,
   "metadata": {},
   "outputs": [
    {
     "name": "stdout",
     "output_type": "stream",
     "text": [
      "78 1.8704397870435743e-06\n",
      "86 8.507503670877727e-06\n",
      "58 2.1289669943040223e-06\n",
      "35 1.5029251112027098e-05\n",
      "122 3.496811077569971e-05\n",
      "25 1.8704397870435743e-06\n",
      "154 3.4603720240671355e-06\n",
      "340 1.9828027939408653e-06\n",
      "40 2.111217658966341e-06\n",
      "362 1.8704397870435743e-06\n",
      "432 3.4603720240671355e-06\n",
      "462 1.2669008555821948e-05\n",
      "2089740 1.2639803998519903e-05\n",
      "235 2.2135761614937025e-05\n",
      "13940 2.9294336771629678e-05\n",
      "488 1.8704397870435743e-06\n",
      "1741 4.083967848159381e-06\n",
      "92 8.493473780750819e-06\n",
      "287 5.115894325668671e-05\n",
      "670 1.8704397870435743e-06\n"
     ]
    }
   ],
   "source": [
    "# Calculate node PageRank scores\n",
    "PRankH = snap.TIntFltH()\n",
    "snap.GetPageRank(G, PRankH)\n",
    "\n",
    "# Print them out\n",
    "numItemstoList=20;\n",
    "i=0;\n",
    "for item in PRankH:\n",
    "    print (item, PRankH[item])\n",
    "    i=i+1\n",
    "    if i==numItemstoList:\n",
    "        break # uncomment to output all nodes"
   ]
  },
  {
   "cell_type": "code",
   "execution_count": 98,
   "metadata": {},
   "outputs": [],
   "source": [
    "# sort them\n",
    "sorted_PRankH = sorted(PRankH, key = lambda key: PRankH[key],\n",
    " reverse = True)"
   ]
  },
  {
   "cell_type": "code",
   "execution_count": 99,
   "metadata": {},
   "outputs": [
    {
     "name": "stdout",
     "output_type": "stream",
     "text": [
      "22656 0.007056128768176306\n",
      "139985 0.00529019813391255\n",
      "571407 0.004347854326106056\n",
      "992484 0.0037221286179404257\n",
      "157882 0.003628119980262345\n",
      "57695 0.0035063760957813597\n",
      "218978 0.0031601008461727615\n",
      "70604 0.003069730739319889\n",
      "230513 0.002948376314400641\n",
      "438154 0.0025064472665334097\n"
     ]
    }
   ],
   "source": [
    "# print top n nodes with highest Pagerank\n",
    "for item in sorted_PRankH[0:10]:\n",
    "    print (item, PRankH[item])"
   ]
  },
  {
   "cell_type": "markdown",
   "metadata": {},
   "source": [
    "### Triads and Clsutering Coefficient"
   ]
  },
  {
   "cell_type": "code",
   "execution_count": 100,
   "metadata": {},
   "outputs": [
    {
     "name": "stdout",
     "output_type": "stream",
     "text": [
      "triads 608389\n",
      "clustering coefficient 0.14089784589308724\n"
     ]
    }
   ],
   "source": [
    "# Count triads\n",
    "Triads = snap.GetTriads(G5)\n",
    "print (\"triads\", Triads)\n",
    "\n",
    "# Calculate clustering coefficient\n",
    "CC = snap.GetClustCf(G5)\n",
    "print (\"clustering coefficient\", CC)"
   ]
  },
  {
   "cell_type": "markdown",
   "metadata": {},
   "source": [
    "### Distances between nodes\n"
   ]
  },
  {
   "cell_type": "code",
   "execution_count": 101,
   "metadata": {},
   "outputs": [
    {
     "name": "stdout",
     "output_type": "stream",
     "text": [
      "diameter 7\n",
      "effective diameter 3.776224059386249\n"
     ]
    }
   ],
   "source": [
    "# Calculate diameter\n",
    "D = snap.GetBfsFullDiam(G5, 7000)\n",
    "print (\"diameter\", D)\n",
    "\n",
    "# Calculate effective diameter\n",
    "ED = snap.GetBfsEffDiam(G5, 7000) \n",
    "print (\"effective diameter\", ED)"
   ]
  },
  {
   "cell_type": "markdown",
   "metadata": {},
   "source": [
    "**GetBfsEffDiamAll**(Graph, NTestNode, IsDir)<BR>\n",
    "Returns the approximation of the effective diameter, the diameter, and the average shortest path length in a graph. Does this by performing BFS from NTestNodes random starting nodes.\n",
    "\n",
    "**Parameters:**\n",
    "- Graph: graph (input)\n",
    "        A Snap.py graph or a network.\n",
    "- NTestNodes: int (input)\n",
    "        The number of random start nodes to use in the BFS used to calculate the graph diameter and effective diameter.\n",
    "\n",
    "- IsDir: bool (input)\n",
    "        Indicates whether the edges should be considered directed or undirected.\n",
    "\n",
    "**Return value:**\n",
    "    list: [ float, float, int, float ]<BR>\n",
    "    The list contains four elements: \n",
    "    1. the first and the second element are the effective diameter of the graph, \n",
    "    3. the third element is the diameter\n",
    "    4. the fourth element is the average shortest path length."
   ]
  },
  {
   "cell_type": "code",
   "execution_count": 102,
   "metadata": {},
   "outputs": [
    {
     "name": "stdout",
     "output_type": "stream",
     "text": [
      "[3.7836043105163135, 3.7836043105163135, 7, 3.258658724292534]\n"
     ]
    }
   ],
   "source": [
    "#Difference between directed and undirected\n",
    "result = snap.GetBfsEffDiamAll(G5, 1000, False) \n",
    "print (result)"
   ]
  },
  {
   "cell_type": "code",
   "execution_count": 103,
   "metadata": {},
   "outputs": [
    {
     "name": "stdout",
     "output_type": "stream",
     "text": [
      "[3.9714007931431494, 3.9714007931431494, 8, 3.356699931312059]\n"
     ]
    }
   ],
   "source": [
    "result = snap.GetBfsEffDiamAll(G5, 1000, True)\n",
    "print (result)"
   ]
  },
  {
   "cell_type": "code",
   "execution_count": 104,
   "metadata": {},
   "outputs": [
    {
     "name": "stdout",
     "output_type": "stream",
     "text": [
      "node 100, of 1300\n",
      "node 200, of 1300\n",
      "node 300, of 1300\n",
      "node 400, of 1300\n",
      "node 500, of 1300\n",
      "node 600, of 1300\n",
      "node 700, of 1300\n",
      "node 800, of 1300\n",
      "node 900, of 1300\n",
      "node 1000, of 1300\n",
      "node 1100, of 1300\n",
      "node 1200, of 1300\n",
      "node 1300, of 1300\n"
     ]
    }
   ],
   "source": [
    "#calculate avverage distance\n",
    "NIdToDistH = snap.TIntH()\n",
    "# Node traversal\n",
    "distL=[]\n",
    "i=0\n",
    "MxSccG5 = snap.GetMxScc(G5)\n",
    "numNodes=MxSccG5.GetNodes()\n",
    "dmN=np.zeros(numNodes)\n",
    "IsDir = True\n",
    "\n",
    "for NI in MxSccG5.Nodes():\n",
    "    i=i+1;\n",
    "    if (i% 100) ==0:\n",
    "        print (\"node %d, of %d\" \\\n",
    "        % (i, numNodes))\n",
    "    shortestPath = snap.GetShortPath(MxSccG5, NI.GetId(), NIdToDistH, IsDir)\n",
    "    temp=[]\n",
    "    for item in NIdToDistH:\n",
    "        if NIdToDistH[item] > 0:\n",
    "            distL.append(NIdToDistH[item])\n",
    "            temp.append(NIdToDistH[item])\n",
    "    dmN[i-1]=np.mean(temp)        "
   ]
  },
  {
   "cell_type": "code",
   "execution_count": 105,
   "metadata": {},
   "outputs": [
    {
     "name": "stdout",
     "output_type": "stream",
     "text": [
      "diameter 9\n",
      "effective diameter 3.578109948154001\n"
     ]
    }
   ],
   "source": [
    "# Calculate diameter\n",
    "D = snap.GetBfsFullDiam(MxSccG5, 1300, IsDir)\n",
    "print (\"diameter\", D)\n",
    "\n",
    "# Calculate effective diameter\n",
    "ED = snap.GetBfsEffDiam(MxSccG5, 1300, IsDir) \n",
    "print (\"effective diameter\", ED)"
   ]
  },
  {
   "cell_type": "code",
   "execution_count": 106,
   "metadata": {},
   "outputs": [
    {
     "data": {
      "text/plain": [
       "2.8792828803221413"
      ]
     },
     "execution_count": 106,
     "metadata": {},
     "output_type": "execute_result"
    }
   ],
   "source": [
    "distV=np.asarray(distL)\n",
    "np.mean(distV)"
   ]
  },
  {
   "cell_type": "code",
   "execution_count": 107,
   "metadata": {},
   "outputs": [
    {
     "data": {
      "text/plain": [
       "1300"
      ]
     },
     "execution_count": 107,
     "metadata": {},
     "output_type": "execute_result"
    }
   ],
   "source": [
    "numNodes"
   ]
  },
  {
   "cell_type": "code",
   "execution_count": 108,
   "metadata": {},
   "outputs": [
    {
     "data": {
      "text/plain": [
       "2.8792828803221417"
      ]
     },
     "execution_count": 108,
     "metadata": {},
     "output_type": "execute_result"
    }
   ],
   "source": [
    "np.mean(dmN)"
   ]
  },
  {
   "cell_type": "code",
   "execution_count": 109,
   "metadata": {},
   "outputs": [
    {
     "data": {
      "text/plain": [
       "4.0"
      ]
     },
     "execution_count": 109,
     "metadata": {},
     "output_type": "execute_result"
    }
   ],
   "source": [
    "np.percentile(distV,90)"
   ]
  },
  {
   "cell_type": "code",
   "execution_count": 110,
   "metadata": {},
   "outputs": [
    {
     "data": {
      "text/plain": [
       "3.6206312548113933"
      ]
     },
     "execution_count": 110,
     "metadata": {},
     "output_type": "execute_result"
    }
   ],
   "source": [
    "np.percentile(dmN,90)"
   ]
  },
  {
   "cell_type": "code",
   "execution_count": 111,
   "metadata": {},
   "outputs": [
    {
     "data": {
      "text/plain": [
       "3.578109948154001"
      ]
     },
     "execution_count": 111,
     "metadata": {},
     "output_type": "execute_result"
    }
   ],
   "source": [
    "IsDir = True\n",
    "snap.GetBfsEffDiam(MxSccG5, 7000, IsDir)"
   ]
  },
  {
   "cell_type": "code",
   "execution_count": 112,
   "metadata": {},
   "outputs": [
    {
     "name": "stdout",
     "output_type": "stream",
     "text": [
      "[3.5552963722947073, 3.5552963722947073, 9, 2.858976153846154]\n"
     ]
    }
   ],
   "source": [
    "result = snap.GetBfsEffDiamAll(MxSccG5, 1000, True)\n",
    "print (result)"
   ]
  },
  {
   "cell_type": "markdown",
   "metadata": {},
   "source": [
    "## K-cores"
   ]
  },
  {
   "cell_type": "code",
   "execution_count": 113,
   "metadata": {},
   "outputs": [],
   "source": [
    "Core3 = snap.GetKCore(G5, 3)  # Calculate 3-core\n",
    "# Returns the subgraph  "
   ]
  },
  {
   "cell_type": "code",
   "execution_count": 114,
   "metadata": {},
   "outputs": [
    {
     "name": "stdout",
     "output_type": "stream",
     "text": [
      "Core exists for K=1\n",
      "Core exists for K=2\n",
      "Core exists for K=3\n",
      "Core exists for K=4\n",
      "Core exists for K=5\n",
      "Core exists for K=6\n",
      "Core exists for K=7\n",
      "Core exists for K=8\n",
      "Core exists for K=9\n",
      "Core exists for K=10\n",
      "Core exists for K=11\n",
      "Core exists for K=12\n",
      "Core exists for K=13\n",
      "Core exists for K=14\n",
      "Core exists for K=15\n",
      "Core exists for K=16\n",
      "Core exists for K=17\n",
      "Core exists for K=18\n",
      "Core exists for K=19\n",
      "Core exists for K=20\n",
      "Core exists for K=21\n",
      "Core exists for K=22\n",
      "Core exists for K=23\n",
      "Core exists for K=24\n",
      "Core exists for K=25\n",
      "Core exists for K=26\n",
      "Core exists for K=27\n",
      "Core exists for K=28\n",
      "Core exists for K=29\n",
      "Core exists for K=30\n",
      "Core exists for K=31\n",
      "Core exists for K=32\n",
      "Core exists for K=33\n",
      "Core exists for K=34\n",
      "Core exists for K=35\n",
      "Core exists for K=36\n",
      "Core exists for K=37\n",
      "Core exists for K=38\n",
      "Core exists for K=39\n",
      "Core exists for K=40\n",
      "Core exists for K=41\n",
      "Core exists for K=42\n",
      "Core exists for K=43\n",
      "Core exists for K=44\n",
      "Core exists for K=45\n",
      "Core exists for K=46\n",
      "Core exists for K=47\n",
      "Core exists for K=48\n",
      "Core exists for K=49\n",
      "Core exists for K=50\n",
      "Core exists for K=51\n",
      "Core exists for K=52\n",
      "Core exists for K=53\n",
      "Core exists for K=54\n",
      "Core exists for K=55\n",
      "Core exists for K=56\n",
      "No Core exists for K=57\n"
     ]
    }
   ],
   "source": [
    "K=0\n",
    "while True:\n",
    "    K=K+1\n",
    "    KCore = snap.GetKCore(G5, K)\n",
    "    if KCore.Empty():\n",
    "        print ('No Core exists for K=%d' % K)\n",
    "        break\n",
    "    else:\n",
    "        print( 'Core exists for K=%d' % K)"
   ]
  },
  {
   "cell_type": "code",
   "execution_count": 115,
   "metadata": {},
   "outputs": [
    {
     "name": "stdout",
     "output_type": "stream",
     "text": [
      "k-core: 0 nodes: 7115\n",
      "k-core: 1 nodes: 7115\n",
      "k-core: 2 nodes: 4786\n",
      "k-core: 3 nodes: 4153\n",
      "k-core: 4 nodes: 3762\n",
      "k-core: 5 nodes: 3513\n",
      "k-core: 6 nodes: 3343\n",
      "k-core: 7 nodes: 3183\n",
      "k-core: 8 nodes: 3030\n",
      "k-core: 9 nodes: 2913\n",
      "k-core: 10 nodes: 2825\n",
      "k-core: 11 nodes: 2711\n",
      "k-core: 12 nodes: 2605\n",
      "k-core: 13 nodes: 2529\n",
      "k-core: 14 nodes: 2452\n",
      "k-core: 15 nodes: 2383\n",
      "k-core: 16 nodes: 2319\n",
      "k-core: 17 nodes: 2268\n",
      "k-core: 18 nodes: 2214\n",
      "k-core: 19 nodes: 2146\n",
      "k-core: 20 nodes: 2099\n",
      "k-core: 21 nodes: 2065\n",
      "k-core: 22 nodes: 2011\n",
      "k-core: 23 nodes: 1979\n",
      "k-core: 24 nodes: 1926\n",
      "k-core: 25 nodes: 1876\n",
      "k-core: 26 nodes: 1830\n",
      "k-core: 27 nodes: 1780\n",
      "k-core: 28 nodes: 1754\n",
      "k-core: 29 nodes: 1708\n",
      "k-core: 30 nodes: 1673\n",
      "k-core: 31 nodes: 1625\n",
      "k-core: 32 nodes: 1584\n",
      "k-core: 33 nodes: 1534\n",
      "k-core: 34 nodes: 1482\n",
      "k-core: 35 nodes: 1433\n",
      "k-core: 36 nodes: 1377\n",
      "k-core: 37 nodes: 1337\n",
      "k-core: 38 nodes: 1305\n",
      "k-core: 39 nodes: 1250\n",
      "k-core: 40 nodes: 1217\n",
      "k-core: 41 nodes: 1155\n",
      "k-core: 42 nodes: 1084\n",
      "k-core: 43 nodes: 1044\n",
      "k-core: 44 nodes: 1025\n",
      "k-core: 45 nodes: 977\n",
      "k-core: 46 nodes: 953\n",
      "k-core: 47 nodes: 891\n",
      "k-core: 48 nodes: 825\n",
      "k-core: 49 nodes: 787\n",
      "k-core: 50 nodes: 727\n",
      "k-core: 51 nodes: 652\n",
      "k-core: 52 nodes: 598\n",
      "k-core: 53 nodes: 527\n",
      "k-core: 54 nodes: 484\n",
      "k-core: 55 nodes: 440\n",
      "k-core: 56 nodes: 313\n"
     ]
    }
   ],
   "source": [
    "# Calcualte the number of nodes in every core\n",
    "CoreIDSzV = snap.TIntPrV()\n",
    "kValue = snap.GetKCoreNodes(G5, CoreIDSzV)\n",
    "for item in CoreIDSzV:\n",
    "    print (\"k-core: %d nodes: %d\" % (item.GetVal1(), item.GetVal2()))"
   ]
  },
  {
   "cell_type": "markdown",
   "metadata": {},
   "source": [
    "### Transform directed Graph into undirected"
   ]
  },
  {
   "cell_type": "code",
   "execution_count": 116,
   "metadata": {},
   "outputs": [],
   "source": [
    "G5Un = snap.ConvertGraph(snap.PUNGraph, G5)\n",
    "snap.PrintInfo(G5Un, \"Wiki Votes UN Stats\", \"wiki_votesUN-info.txt\",  False)"
   ]
  },
  {
   "cell_type": "code",
   "execution_count": 117,
   "metadata": {},
   "outputs": [
    {
     "name": "stdout",
     "output_type": "stream",
     "text": [
      "Wiki Votes UN Stats:\n",
      "  Nodes:                    7115\n",
      "  Edges:                    100762\n",
      "  Zero Deg Nodes:           0\n",
      "  Zero InDeg Nodes:         0\n",
      "  Zero OutDeg Nodes:        0\n",
      "  NonZero In-Out Deg Nodes: 7115\n",
      "  Unique directed edges:    201524\n",
      "  Unique undirected edges:  100762\n",
      "  Self Edges:               0\n",
      "  BiDir Edges:              201524\n",
      "  Closed triangles:         608389\n",
      "  Open triangles:           12720413\n",
      "  Frac. of closed triads:   0.045645\n",
      "  Connected component size: 0.993113\n",
      "  Strong conn. comp. size:  0.993113\n",
      "  Approx. full diameter:    6\n",
      "  90% effective diameter:  3.788046\n",
      "\n"
     ]
    }
   ],
   "source": [
    "f = open('wiki_votesUN-info.txt', 'r')\n",
    "file_contents = f.read()\n",
    "print (file_contents)\n",
    "f.close()"
   ]
  },
  {
   "cell_type": "markdown",
   "metadata": {},
   "source": [
    "## Generate Artificial Graphs"
   ]
  },
  {
   "cell_type": "code",
   "execution_count": 118,
   "metadata": {},
   "outputs": [
    {
     "name": "stdout",
     "output_type": "stream",
     "text": [
      "14.161911454673225\n",
      "14.161911454673225\n"
     ]
    }
   ],
   "source": [
    "AverageDegree=G5Un.GetEdges()/G5Un.GetNodes() #truncated average degree\n",
    "AverageDegreeF=G5Un.GetEdges()/float(G5Un.GetNodes())\n",
    "print(AverageDegree)\n",
    "print(AverageDegreeF)"
   ]
  },
  {
   "cell_type": "code",
   "execution_count": 125,
   "metadata": {},
   "outputs": [],
   "source": [
    "# Preferential Attachment\n",
    "Rnd = snap.TRnd()\n",
    "G5PRefAttach = snap.GenPrefAttach(G5Un.GetNodes(), int(AverageDegree), Rnd)\n",
    "snap.PrintInfo(G5PRefAttach, \"Wiki Votes PA Stats\", \"wiki_votesPA-info.txt\",  False)"
   ]
  },
  {
   "cell_type": "code",
   "execution_count": 126,
   "metadata": {},
   "outputs": [
    {
     "name": "stdout",
     "output_type": "stream",
     "text": [
      "Wiki Votes PA Stats:\n",
      "  Nodes:                    7115\n",
      "  Edges:                    99505\n",
      "  Zero Deg Nodes:           0\n",
      "  Zero InDeg Nodes:         0\n",
      "  Zero OutDeg Nodes:        0\n",
      "  NonZero In-Out Deg Nodes: 7115\n",
      "  Unique directed edges:    199010\n",
      "  Unique undirected edges:  99505\n",
      "  Self Edges:               0\n",
      "  BiDir Edges:              199010\n",
      "  Closed triangles:         36418\n",
      "  Open triangles:           6035115\n",
      "  Frac. of closed triads:   0.005998\n",
      "  Connected component size: 1.000000\n",
      "  Strong conn. comp. size:  1.000000\n",
      "  Approx. full diameter:    4\n",
      "  90% effective diameter:  2.886225\n",
      "\n"
     ]
    }
   ],
   "source": [
    "f = open('wiki_votesPA-info.txt', 'r')\n",
    "file_contents = f.read()\n",
    "print (file_contents)\n",
    "f.close()"
   ]
  },
  {
   "cell_type": "code",
   "execution_count": 127,
   "metadata": {},
   "outputs": [],
   "source": [
    "# Configuration Model\n",
    "G5UnDegSeqV = snap.TIntV()\n",
    "snap.GetDegSeqV(G5Un, G5UnDegSeqV)\n",
    "\n",
    "Rnd = snap.TRnd()\n",
    "G5ConfModel = snap.GenConfModel(G5UnDegSeqV, Rnd)\n",
    "snap.PrintInfo(G5ConfModel, \"Wiki Votes ConfModel Stats\", \"wiki_votesConfModel-info.txt\",  False)"
   ]
  },
  {
   "cell_type": "code",
   "execution_count": 128,
   "metadata": {},
   "outputs": [
    {
     "name": "stdout",
     "output_type": "stream",
     "text": [
      "Wiki Votes ConfModel Stats:\n",
      "  Nodes:                    7115\n",
      "  Edges:                    96163\n",
      "  Zero Deg Nodes:           0\n",
      "  Zero InDeg Nodes:         0\n",
      "  Zero OutDeg Nodes:        0\n",
      "  NonZero In-Out Deg Nodes: 7115\n",
      "  Unique directed edges:    192326\n",
      "  Unique undirected edges:  96163\n",
      "  Self Edges:               0\n",
      "  BiDir Edges:              192326\n",
      "  Closed triangles:         300978\n",
      "  Open triangles:           11199598\n",
      "  Frac. of closed triads:   0.026171\n",
      "  Connected component size: 0.998313\n",
      "  Strong conn. comp. size:  0.998313\n",
      "  Approx. full diameter:    6\n",
      "  90% effective diameter:  3.731772\n",
      "\n"
     ]
    }
   ],
   "source": [
    "f = open('wiki_votesConfModel-info.txt', 'r')\n",
    "file_contents = f.read()\n",
    "print (file_contents)\n",
    "f.close()"
   ]
  },
  {
   "cell_type": "code",
   "execution_count": 129,
   "metadata": {},
   "outputs": [],
   "source": [
    "# Node Rewiring\n",
    "Rnd = snap.TRnd()\n",
    "G5RW = snap.GenRewire(G5Un, 1000, Rnd)"
   ]
  },
  {
   "cell_type": "code",
   "execution_count": 130,
   "metadata": {},
   "outputs": [],
   "source": [
    "snap.PrintInfo(G5RW, \"Wiki Votes Rewire Stats\", \"wiki_votesRewire-info.txt\",  False)"
   ]
  },
  {
   "cell_type": "code",
   "execution_count": 131,
   "metadata": {},
   "outputs": [
    {
     "name": "stdout",
     "output_type": "stream",
     "text": [
      "Wiki Votes Rewire Stats:\n",
      "  Nodes:                    7115\n",
      "  Edges:                    100762\n",
      "  Zero Deg Nodes:           0\n",
      "  Zero InDeg Nodes:         0\n",
      "  Zero OutDeg Nodes:        0\n",
      "  NonZero In-Out Deg Nodes: 7115\n",
      "  Unique directed edges:    201524\n",
      "  Unique undirected edges:  100762\n",
      "  Self Edges:               0\n",
      "  BiDir Edges:              201524\n",
      "  Closed triangles:         397085\n",
      "  Open triangles:           13354325\n",
      "  Frac. of closed triads:   0.028876\n",
      "  Connected component size: 0.998313\n",
      "  Strong conn. comp. size:  0.998313\n",
      "  Approx. full diameter:    7\n",
      "  90% effective diameter:  3.742381\n",
      "\n"
     ]
    }
   ],
   "source": [
    "f = open('wiki_votesRewire-info.txt', 'r')\n",
    "file_contents = f.read()\n",
    "print (file_contents)\n",
    "f.close()"
   ]
  },
  {
   "cell_type": "code",
   "execution_count": 132,
   "metadata": {},
   "outputs": [],
   "source": [
    "# Erdos-Renyi random graph\n",
    "G5ER = snap.GenRndGnm(snap.PNGraph, G5.GetNodes(),G5.GetEdges())\n",
    "snap.PrintInfo(G5ER, \"Wiki Votes Random Stats\", \"wiki_votesRandom-info.txt\",  False)"
   ]
  },
  {
   "cell_type": "code",
   "execution_count": 133,
   "metadata": {},
   "outputs": [
    {
     "data": {
      "text/plain": [
       "100762"
      ]
     },
     "execution_count": 133,
     "metadata": {},
     "output_type": "execute_result"
    }
   ],
   "source": [
    "G5Un.GetEdges()"
   ]
  },
  {
   "cell_type": "code",
   "execution_count": 134,
   "metadata": {},
   "outputs": [
    {
     "name": "stdout",
     "output_type": "stream",
     "text": [
      "Wiki Votes Random Stats: Directed\n",
      "  Nodes:                    7115\n",
      "  Edges:                    103689\n",
      "  Zero Deg Nodes:           0\n",
      "  Zero InDeg Nodes:         0\n",
      "  Zero OutDeg Nodes:        0\n",
      "  NonZero In-Out Deg Nodes: 7115\n",
      "  Unique directed edges:    103689\n",
      "  Unique undirected edges:  103588\n",
      "  Self Edges:               0\n",
      "  BiDir Edges:              202\n",
      "  Closed triangles:         4139\n",
      "  Open triangles:           3003069\n",
      "  Frac. of closed triads:   0.001376\n",
      "  Connected component size: 1.000000\n",
      "  Strong conn. comp. size:  1.000000\n",
      "  Approx. full diameter:    4\n",
      "  90% effective diameter:  2.928643\n",
      "\n"
     ]
    }
   ],
   "source": [
    "f = open('wiki_votesRandom-info.txt', 'r')\n",
    "file_contents = f.read()\n",
    "print (file_contents)\n",
    "f.close()"
   ]
  },
  {
   "cell_type": "markdown",
   "metadata": {},
   "source": [
    "__Task__: Calculate k-cores and plot degree disitributions for G5ER and G5PRefAttach. Compare with original data."
   ]
  },
  {
   "cell_type": "code",
   "execution_count": null,
   "metadata": {
    "collapsed": true,
    "jupyter": {
     "outputs_hidden": true
    }
   },
   "outputs": [],
   "source": []
  }
 ],
 "metadata": {
  "kernelspec": {
   "display_name": "Python 3",
   "language": "python",
   "name": "python3"
  },
  "language_info": {
   "codemirror_mode": {
    "name": "ipython",
    "version": 3
   },
   "file_extension": ".py",
   "mimetype": "text/x-python",
   "name": "python",
   "nbconvert_exporter": "python",
   "pygments_lexer": "ipython3",
   "version": "3.7.4"
  }
 },
 "nbformat": 4,
 "nbformat_minor": 4
}
