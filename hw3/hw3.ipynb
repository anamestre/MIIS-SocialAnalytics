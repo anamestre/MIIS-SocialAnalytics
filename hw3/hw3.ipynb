{
 "cells": [
  {
   "cell_type": "code",
   "execution_count": null,
   "metadata": {},
   "outputs": [],
   "source": [
    "import sys\n",
    "import tweepy\n",
    "import json\n",
    "consumer_key = 'XXX'\n",
    "consumer_secret = 'XXX'\n",
    "access_token = 'XXX'\n",
    "access_token_secret = 'XXX'"
   ]
  },
  {
   "cell_type": "code",
   "execution_count": null,
   "metadata": {},
   "outputs": [],
   "source": [
    "class StdOutListener(tweepy.StreamListener):\n",
    "    def on_status(self, status):\n",
    "        try:\n",
    "            #tweet_json = json.loads(json.dumps(status._json))\n",
    "            #print tweet_json\n",
    "            print json.dumps(status._json)\n",
    "        except:\n",
    "            print \"Unexpected error:\", sys.exc_info()[0]\n",
    "        return True\n",
    "    \n",
    "    def on_error(self, status_code):\n",
    "        print('Got an error with status code: ' + str(status_code))\n",
    "        return False # To continue listening\n",
    "    \n",
    "    def on_timeout(self):\n",
    "        print('Timeout...')\n",
    "        return False # To continue listening\n",
    "    \n",
    "    if __name__ == '__main__':\n",
    "    listener = StdOutListener()\n",
    "    auth = tweepy.OAuthHandler(consumer_key, consumer_secret)\n",
    "    auth.set_access_token(access_token, access_token_secret)\n",
    "    stream = tweepy.Stream(auth, listener)\n",
    "    #stream.filter(locations=[-6.38,49.87,1.77,55.81])\n",
    "    # coordinates of barcelona\n",
    "    stream.filter(track=['hello'])"
   ]
  },
  {
   "cell_type": "code",
   "execution_count": null,
   "metadata": {},
   "outputs": [],
   "source": []
  }
 ],
 "metadata": {
  "kernelspec": {
   "display_name": "Python 3",
   "language": "python",
   "name": "python3"
  },
  "language_info": {
   "codemirror_mode": {
    "name": "ipython",
    "version": 3
   },
   "file_extension": ".py",
   "mimetype": "text/x-python",
   "name": "python",
   "nbconvert_exporter": "python",
   "pygments_lexer": "ipython3",
   "version": "3.7.4"
  }
 },
 "nbformat": 4,
 "nbformat_minor": 4
}
